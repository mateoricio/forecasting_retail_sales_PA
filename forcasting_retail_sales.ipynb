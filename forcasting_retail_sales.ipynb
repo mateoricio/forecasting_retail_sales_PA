{
 "cells": [
  {
   "cell_type": "markdown",
   "metadata": {},
   "source": [
    "# Forecasting of Retail Sales:"
   ]
  },
  {
   "cell_type": "markdown",
   "metadata": {},
   "source": [
    "## Goal\n",
    "\n",
    "Our goal is, given data of a grocery store, predict the sales of one of their products in time. For this task we will use different machine learning models."
   ]
  },
  {
   "cell_type": "code",
   "execution_count": 2,
   "metadata": {},
   "outputs": [],
   "source": [
    "import pandas as pd\n",
    "import numpy as np"
   ]
  },
  {
   "cell_type": "code",
   "execution_count": 6,
   "metadata": {},
   "outputs": [
    {
     "data": {
      "text/html": [
       "<div>\n",
       "<style scoped>\n",
       "    .dataframe tbody tr th:only-of-type {\n",
       "        vertical-align: middle;\n",
       "    }\n",
       "\n",
       "    .dataframe tbody tr th {\n",
       "        vertical-align: top;\n",
       "    }\n",
       "\n",
       "    .dataframe thead th {\n",
       "        text-align: right;\n",
       "    }\n",
       "</style>\n",
       "<table border=\"1\" class=\"dataframe\">\n",
       "  <thead>\n",
       "    <tr style=\"text-align: right;\">\n",
       "      <th></th>\n",
       "      <th>Fecha</th>\n",
       "      <th>Referencia</th>\n",
       "      <th>Unidades</th>\n",
       "      <th>Ventas</th>\n",
       "    </tr>\n",
       "  </thead>\n",
       "  <tbody>\n",
       "    <tr>\n",
       "      <th>0</th>\n",
       "      <td>2017-01-01</td>\n",
       "      <td>Cerveza tercio</td>\n",
       "      <td>18.000000</td>\n",
       "      <td>11.700000</td>\n",
       "    </tr>\n",
       "    <tr>\n",
       "      <th>1</th>\n",
       "      <td>2017-01-01</td>\n",
       "      <td>Baguetes 2 unidades</td>\n",
       "      <td>34.000000</td>\n",
       "      <td>33.320001</td>\n",
       "    </tr>\n",
       "    <tr>\n",
       "      <th>2</th>\n",
       "      <td>2017-01-02</td>\n",
       "      <td>Aceite de oliva virgen extra 5 l</td>\n",
       "      <td>53.000000</td>\n",
       "      <td>1184.550020</td>\n",
       "    </tr>\n",
       "    <tr>\n",
       "      <th>3</th>\n",
       "      <td>2017-01-02</td>\n",
       "      <td>Bolsa naranjas 2Kg.</td>\n",
       "      <td>1118.000000</td>\n",
       "      <td>1889.420064</td>\n",
       "    </tr>\n",
       "    <tr>\n",
       "      <th>4</th>\n",
       "      <td>2017-01-02</td>\n",
       "      <td>Mandarina</td>\n",
       "      <td>1752.468997</td>\n",
       "      <td>3356.279999</td>\n",
       "    </tr>\n",
       "    <tr>\n",
       "      <th>5</th>\n",
       "      <td>2017-01-02</td>\n",
       "      <td>Melo  OR</td>\n",
       "      <td>399.428999</td>\n",
       "      <td>728.429999</td>\n",
       "    </tr>\n",
       "    <tr>\n",
       "      <th>6</th>\n",
       "      <td>2017-01-02</td>\n",
       "      <td>Baguetes 2 unidades</td>\n",
       "      <td>3572.000000</td>\n",
       "      <td>3257.839944</td>\n",
       "    </tr>\n",
       "    <tr>\n",
       "      <th>7</th>\n",
       "      <td>2017-01-02</td>\n",
       "      <td>Jamón reserva</td>\n",
       "      <td>48.515000</td>\n",
       "      <td>870.689999</td>\n",
       "    </tr>\n",
       "    <tr>\n",
       "      <th>8</th>\n",
       "      <td>2017-01-02</td>\n",
       "      <td>Cerveza tercio</td>\n",
       "      <td>1280.000000</td>\n",
       "      <td>802.150005</td>\n",
       "    </tr>\n",
       "    <tr>\n",
       "      <th>9</th>\n",
       "      <td>2017-01-02</td>\n",
       "      <td>Naranja en cajas</td>\n",
       "      <td>831.050001</td>\n",
       "      <td>1470.350000</td>\n",
       "    </tr>\n",
       "    <tr>\n",
       "      <th>10</th>\n",
       "      <td>2017-01-02</td>\n",
       "      <td>Pack de plátanos</td>\n",
       "      <td>1638.459999</td>\n",
       "      <td>2605.239997</td>\n",
       "    </tr>\n",
       "    <tr>\n",
       "      <th>11</th>\n",
       "      <td>2017-01-02</td>\n",
       "      <td>MERLUZA PALANGRE 1 - 2 Kg (1 Caja 10Q.)</td>\n",
       "      <td>2.110000</td>\n",
       "      <td>37.959999</td>\n",
       "    </tr>\n",
       "    <tr>\n",
       "      <th>12</th>\n",
       "      <td>2017-01-02</td>\n",
       "      <td>Tomate jugoso al peso</td>\n",
       "      <td>613.685000</td>\n",
       "      <td>1835.050002</td>\n",
       "    </tr>\n",
       "    <tr>\n",
       "      <th>13</th>\n",
       "      <td>2017-01-03</td>\n",
       "      <td>Cerveza tercio</td>\n",
       "      <td>1483.000000</td>\n",
       "      <td>927.380006</td>\n",
       "    </tr>\n",
       "    <tr>\n",
       "      <th>14</th>\n",
       "      <td>2017-01-03</td>\n",
       "      <td>Filetes de salmón</td>\n",
       "      <td>99.465000</td>\n",
       "      <td>2872.510000</td>\n",
       "    </tr>\n",
       "  </tbody>\n",
       "</table>\n",
       "</div>"
      ],
      "text/plain": [
       "         Fecha                               Referencia     Unidades  \\\n",
       "0   2017-01-01                           Cerveza tercio    18.000000   \n",
       "1   2017-01-01                      Baguetes 2 unidades    34.000000   \n",
       "2   2017-01-02         Aceite de oliva virgen extra 5 l    53.000000   \n",
       "3   2017-01-02                      Bolsa naranjas 2Kg.  1118.000000   \n",
       "4   2017-01-02                                Mandarina  1752.468997   \n",
       "5   2017-01-02                                 Melo  OR   399.428999   \n",
       "6   2017-01-02                      Baguetes 2 unidades  3572.000000   \n",
       "7   2017-01-02                            Jamón reserva    48.515000   \n",
       "8   2017-01-02                           Cerveza tercio  1280.000000   \n",
       "9   2017-01-02                         Naranja en cajas   831.050001   \n",
       "10  2017-01-02                         Pack de plátanos  1638.459999   \n",
       "11  2017-01-02  MERLUZA PALANGRE 1 - 2 Kg (1 Caja 10Q.)     2.110000   \n",
       "12  2017-01-02                    Tomate jugoso al peso   613.685000   \n",
       "13  2017-01-03                           Cerveza tercio  1483.000000   \n",
       "14  2017-01-03                        Filetes de salmón    99.465000   \n",
       "\n",
       "         Ventas  \n",
       "0     11.700000  \n",
       "1     33.320001  \n",
       "2   1184.550020  \n",
       "3   1889.420064  \n",
       "4   3356.279999  \n",
       "5    728.429999  \n",
       "6   3257.839944  \n",
       "7    870.689999  \n",
       "8    802.150005  \n",
       "9   1470.350000  \n",
       "10  2605.239997  \n",
       "11    37.959999  \n",
       "12  1835.050002  \n",
       "13   927.380006  \n",
       "14  2872.510000  "
      ]
     },
     "execution_count": 6,
     "metadata": {},
     "output_type": "execute_result"
    }
   ],
   "source": [
    "df = pd.read_csv('Dataframe_Retail.csv')\n",
    "df.head(15)"
   ]
  },
  {
   "cell_type": "markdown",
   "metadata": {},
   "source": [
    "## Data Analysis\n",
    "\n",
    "What we can find in the dataframe is the sells of the each product each day and the money earned by the sale."
   ]
  },
  {
   "cell_type": "code",
   "execution_count": 11,
   "metadata": {},
   "outputs": [
    {
     "data": {
      "text/plain": [
       "(array(['Cerveza tercio', 'Baguetes 2 unidades',\n",
       "        'Aceite de oliva virgen extra 5 l', 'Bolsa naranjas 2Kg.',\n",
       "        'Mandarina', 'Melo  OR', 'Jamón reserva', 'Naranja en cajas',\n",
       "        'Pack de plátanos', 'MERLUZA PALANGRE 1 - 2 Kg (1 Caja 10Q.)',\n",
       "        'Tomate jugoso al peso', 'Filetes de salmón', 'Sepia',\n",
       "        'Fresa premium 500gr'], dtype=object),\n",
       " (14,))"
      ]
     },
     "execution_count": 11,
     "metadata": {},
     "output_type": "execute_result"
    }
   ],
   "source": [
    "df['Referencia'].unique(), df['Referencia'].unique().shape"
   ]
  }
 ],
 "metadata": {
  "kernelspec": {
   "display_name": "Python 3.9.2 64-bit",
   "language": "python",
   "name": "python3"
  },
  "language_info": {
   "codemirror_mode": {
    "name": "ipython",
    "version": 3
   },
   "file_extension": ".py",
   "mimetype": "text/x-python",
   "name": "python",
   "nbconvert_exporter": "python",
   "pygments_lexer": "ipython3",
   "version": "3.9.2"
  },
  "orig_nbformat": 4,
  "vscode": {
   "interpreter": {
    "hash": "81794d4967e6c3204c66dcd87b604927b115b27c00565d3d43f05ba2f3a2cb0d"
   }
  }
 },
 "nbformat": 4,
 "nbformat_minor": 2
}
